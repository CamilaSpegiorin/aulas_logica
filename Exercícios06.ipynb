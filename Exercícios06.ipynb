{
 "cells": [
  {
   "cell_type": "markdown",
   "metadata": {},
   "source": [
    " 1. Utilizando o comando for, exiba todos os números ímpares, de 1 a 40."
   ]
  },
  {
   "cell_type": "code",
   "execution_count": 3,
   "metadata": {},
   "outputs": [
    {
     "name": "stdout",
     "output_type": "stream",
     "text": [
      "O número 0 é par\n",
      "O número 2 é par\n",
      "O número 4 é par\n",
      "O número 6 é par\n",
      "O número 8 é par\n",
      "O número 10 é par\n",
      "O número 12 é par\n",
      "O número 14 é par\n",
      "O número 16 é par\n",
      "O número 18 é par\n",
      "O número 20 é par\n",
      "O número 22 é par\n",
      "O número 24 é par\n",
      "O número 26 é par\n",
      "O número 28 é par\n",
      "O número 30 é par\n",
      "O número 32 é par\n",
      "O número 34 é par\n",
      "O número 36 é par\n",
      "O número 38 é par\n"
     ]
    }
   ],
   "source": [
    "for x in range(40) :\n",
    "    if x % 2 == 0 :\n",
    "        print(f'O número {x} é par')\n",
    "    "
   ]
  },
  {
   "cell_type": "markdown",
   "metadata": {},
   "source": [
    "2. Gere os 6 números do sorteio da mega-sena de forma aleatória."
   ]
  },
  {
   "cell_type": "code",
   "execution_count": 1,
   "metadata": {},
   "outputs": [
    {
     "name": "stdout",
     "output_type": "stream",
     "text": [
      "5\n",
      "3\n",
      "16\n",
      "7\n",
      "59\n",
      "35\n"
     ]
    }
   ],
   "source": [
    "import random \n",
    "for x in range(6) :\n",
    "    nr = random.randint(1, 60)\n",
    "    print (nr)"
   ]
  },
  {
   "cell_type": "markdown",
   "metadata": {},
   "source": [
    "3. Receba 5 números e verifique a soma e a quantidade de todos os pares e ímpares digitados"
   ]
  },
  {
   "cell_type": "code",
   "execution_count": 1,
   "metadata": {},
   "outputs": [
    {
     "name": "stdout",
     "output_type": "stream",
     "text": [
      "A soma total é 35, você digitou 2 pares e 3 ímpares\n"
     ]
    }
   ],
   "source": [
    "soma = 0\n",
    "par = 0\n",
    "impar = 0\n",
    "for nr in range(5) :\n",
    "    nr = int(input('Digite um nr: '))\n",
    "    soma = soma + nr\n",
    "    if nr % 2 == 0 :\n",
    "        par = par + 1\n",
    "    else :\n",
    "        impar = impar + 1\n",
    "print (f'A soma total é {soma}, você digitou {par} pares e {impar} ímpares')"
   ]
  },
  {
   "cell_type": "markdown",
   "metadata": {},
   "source": [
    "4. Solicite os parâmetros de início, fim e passo para o laço de repetição usando a função range()\n",
    "e exiba o valor atual da variável de controle a cada iteração. range( x , y , z )"
   ]
  },
  {
   "cell_type": "code",
   "execution_count": 2,
   "metadata": {},
   "outputs": [
    {
     "name": "stdout",
     "output_type": "stream",
     "text": [
      "5\n"
     ]
    }
   ],
   "source": [
    "inicio = int(input('Digite o valor inicial'))\n",
    "fim = int(input('Digite o valor final'))\n",
    "passo = int(input('Digite o passo'))\n",
    "for x in range(inicio, fim, passo):\n",
    "    print(x)\n"
   ]
  },
  {
   "cell_type": "markdown",
   "metadata": {},
   "source": [
    "5. Ler do teclado a idade e o sexo de 10 pessoas, calcule e imprima:\n",
    "• idade média das mulheres\n",
    "• idade média dos homens\n",
    "• idade média do grupo"
   ]
  },
  {
   "cell_type": "code",
   "execution_count": 4,
   "metadata": {},
   "outputs": [
    {
     "name": "stdout",
     "output_type": "stream",
     "text": [
      "Média das mulheres 13.0\n",
      "Média dos homens 15.0\n",
      "Média grupo14.2\n"
     ]
    }
   ],
   "source": [
    "soma_mulheres = 0\n",
    "soma_homens = 0\n",
    "qtde_mulheres = 0\n",
    "qtde_homens = 0 \n",
    "for x in range(5) :\n",
    "    idade = int(input('Digite a idade: '))\n",
    "    sexo = input('Digite o sexo: [F/M]')\n",
    "    if sexo == 'F' :\n",
    "        soma_mulheres = soma_mulheres + idade\n",
    "        qtde_mulheres = qtde_mulheres + 1 \n",
    "    else :\n",
    "        soma_homens = soma_homens + idade\n",
    "        qtde_homens = qtde_homens + 1\n",
    "print(f'Média das mulheres {soma_mulheres / qtde_mulheres}')\n",
    "print(f'Média dos homens {soma_homens / qtde_homens}')\n",
    "print(f'Média grupo{(soma_homens+soma_mulheres) / (qtde_homens+qtde_mulheres)}')"
   ]
  },
  {
   "cell_type": "markdown",
   "metadata": {},
   "source": [
    "6. Escreva um programa que mostre todos os números entre 5 e 100 que são divisíveis por 7. Os\n",
    "números obtidos devem ser impressos em sequência."
   ]
  },
  {
   "cell_type": "code",
   "execution_count": 5,
   "metadata": {},
   "outputs": [
    {
     "name": "stdout",
     "output_type": "stream",
     "text": [
      "7\n",
      "14\n",
      "21\n",
      "28\n",
      "35\n",
      "42\n",
      "49\n",
      "56\n",
      "63\n",
      "70\n",
      "77\n",
      "84\n",
      "91\n",
      "98\n"
     ]
    }
   ],
   "source": [
    "for nr in range(5, 101) :\n",
    "    if nr % 7 == 0 :\n",
    "        print(nr)"
   ]
  },
  {
   "cell_type": "markdown",
   "metadata": {},
   "source": [
    "7. Escreva um programa em Python que receba uma string do usuário e mostre de trás para\n",
    "frente."
   ]
  },
  {
   "cell_type": "code",
   "execution_count": 9,
   "metadata": {},
   "outputs": [
    {
     "name": "stdout",
     "output_type": "stream",
     "text": [
      "m\n",
      "am\n",
      "ram\n",
      "cram\n",
      "ocram\n",
      "socram\n",
      " socram\n",
      "5 socram\n",
      "05 socram\n",
      " 05 socram\n",
      "c 05 socram\n",
      "hc 05 socram\n",
      "ohc 05 socram\n",
      "cohc 05 socram\n",
      "ocohc 05 socram\n",
      "locohc 05 socram\n",
      "alocohc 05 socram\n",
      "talocohc 05 socram\n",
      "etalocohc 05 socram\n",
      "setalocohc 05 socram\n"
     ]
    }
   ],
   "source": [
    "palavra = input('Digite uma pavra:')\n",
    "nova_palavra = ''\n",
    "for letra in palavra :\n",
    "    nova_palavra = letra + nova_palavra \n",
    "\n",
    "    print(nova_palavra)"
   ]
  }
 ],
 "metadata": {
  "kernelspec": {
   "display_name": "Python 3",
   "language": "python",
   "name": "python3"
  },
  "language_info": {
   "codemirror_mode": {
    "name": "ipython",
    "version": 3
   },
   "file_extension": ".py",
   "mimetype": "text/x-python",
   "name": "python",
   "nbconvert_exporter": "python",
   "pygments_lexer": "ipython3",
   "version": "3.12.3"
  }
 },
 "nbformat": 4,
 "nbformat_minor": 2
}
