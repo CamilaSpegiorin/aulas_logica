{
 "cells": [
  {
   "cell_type": "markdown",
   "metadata": {},
   "source": [
    "Aula 16/02/2024 -\n",
    "Comandos de saída (print) /\n",
    "Tipos de dados (string, int, float, bool)\n",
    "/Operações Aritiméticas (+-*/%**)"
   ]
  },
  {
   "cell_type": "code",
   "execution_count": 16,
   "metadata": {},
   "outputs": [
    {
     "name": "stdout",
     "output_type": "stream",
     "text": [
      "Olá, mundo!!!\n",
      "Meu primeiro código em python. Usando aspas duplas\n",
      "Para duplicar uma linha pressione shift + alt + seta baixo\n",
      "123\n",
      "70.5\n"
     ]
    },
    {
     "ename": "NameError",
     "evalue": "name 'true' is not defined",
     "output_type": "error",
     "traceback": [
      "\u001b[1;31m---------------------------------------------------------------------------\u001b[0m",
      "\u001b[1;31mNameError\u001b[0m                                 Traceback (most recent call last)",
      "Cell \u001b[1;32mIn[16], line 9\u001b[0m\n\u001b[0;32m      7\u001b[0m \u001b[38;5;28mprint\u001b[39m(\u001b[38;5;241m123\u001b[39m) \u001b[38;5;66;03m#Estou exibindo um número inteiro, por isso, não preciso da \"\"\u001b[39;00m\n\u001b[0;32m      8\u001b[0m \u001b[38;5;28mprint\u001b[39m(\u001b[38;5;241m70.5\u001b[39m) \u001b[38;5;66;03m#Número float\u001b[39;00m\n\u001b[1;32m----> 9\u001b[0m \u001b[38;5;28mprint\u001b[39m(\u001b[43mtrue\u001b[49m)\n\u001b[0;32m     10\u001b[0m \u001b[38;5;28mprint\u001b[39m(\u001b[38;5;28;01mTrue\u001b[39;00m) \u001b[38;5;66;03m#Campo lógico (Verdadeiro ou Falso) (True ou False)\u001b[39;00m\n\u001b[0;32m     11\u001b[0m \u001b[38;5;28mprint\u001b[39m(\u001b[38;5;124m\"\u001b[39m\u001b[38;5;124mSesi\u001b[39m\u001b[38;5;124m\"\u001b[39m) \u001b[38;5;66;03m#Tipo string\u001b[39;00m\n",
      "\u001b[1;31mNameError\u001b[0m: name 'true' is not defined"
     ]
    }
   ],
   "source": [
    "#a função print serve para exibir na tela alguma mensagem\n",
    "\n",
    "print(\"Olá, mundo!!!\")\n",
    "print(\"Meu primeiro código em python. Usando aspas duplas\")\n",
    "print('Para duplicar uma linha pressione shift + alt + seta baixo')\n",
    "\n",
    "print(123) #Estou exibindo um número inteiro, por isso, não preciso da \"\"\n",
    "print(70.5) #Número float\n",
    "print(true)\n",
    "print(True) #Campo lógico (Verdadeiro ou Falso) (True ou False)\n",
    "print(\"Sesi\") #Tipo string\n",
    "\n",
    "# Somando 2 números inteiros (o sinal de + para 2 números realiza a SOMA)\n",
    "print(8 + 6)\n",
    "# Porém se forem 2 strings (o sinal de + realiza a CONCATENAÇÃO)\n",
    "print('8' + '6')\n",
    "\n",
    "#Posso imprimir várias informações ao mesmo tempo separando-as por ,\n",
    "print ('string', 10, 70.5, False)\n",
    "\n",
    "print( 10 + 50 ) # + é o nosso operador de SOMA (número inteiro ou decimal)\n",
    "print( 67 - 13 ) # - é o nosso operador de SUBTRAÇÃO (nº inteiro ou decimal)\n",
    "print( 4214328 * 312321 ) # * é o operador de MULTIPLICAÇÃO \n",
    "print( 4827 / 3 ) # / é o operador de DIVISÃO \n",
    "print( 31 % 2 ) # % é o operador do resto da divisão (MÓDULO)\n",
    "print( 3 ** 3 ) # ** é operador de exponenciação 3³ \n",
    "\n",
    "print( 8 + 6 / 2 ) # O Parênteses define a maior ordem de procedência\n",
    "\n",
    "\n",
    "\n",
    "\n",
    "    "
   ]
  },
  {
   "cell_type": "markdown",
   "metadata": {},
   "source": [
    "Aula 22/02/2024 - Comandos de entrada (input) / Variáveis / Pseudocódigo "
   ]
  },
  {
   "cell_type": "code",
   "execution_count": 16,
   "metadata": {},
   "outputs": [
    {
     "name": "stdout",
     "output_type": "stream",
     "text": [
      "curso\n",
      "Desenvolvimento de Sistemas\n",
      "curso Desenvolvimento de Sistemas\n",
      "Olá Camila você tem 16 hoje está fazendo 23.5\n",
      "Olá Camila, você tem 16 anos, hoje está fazendo 23.5ºC\n"
     ]
    },
    {
     "ename": "ValueError",
     "evalue": "invalid literal for int() with base 10: 'Qual é a sua idade?'",
     "output_type": "error",
     "traceback": [
      "\u001b[1;31m---------------------------------------------------------------------------\u001b[0m",
      "\u001b[1;31mValueError\u001b[0m                                Traceback (most recent call last)",
      "Cell \u001b[1;32mIn[16], line 34\u001b[0m\n\u001b[0;32m     32\u001b[0m nome \u001b[38;5;241m=\u001b[39m \u001b[38;5;28minput\u001b[39m(\u001b[38;5;124m'\u001b[39m\u001b[38;5;124mQual é o seu nome?\u001b[39m\u001b[38;5;124m'\u001b[39m)\n\u001b[0;32m     33\u001b[0m \u001b[38;5;66;03m#Passo 2: Receber a  idade da pessoa\u001b[39;00m\n\u001b[1;32m---> 34\u001b[0m idade \u001b[38;5;241m=\u001b[39m \u001b[38;5;28;43mint\u001b[39;49m\u001b[43m(\u001b[49m\u001b[38;5;124;43m'\u001b[39;49m\u001b[38;5;124;43mQual é a sua idade?\u001b[39;49m\u001b[38;5;124;43m'\u001b[39;49m\u001b[43m)\u001b[49m\n\u001b[0;32m     35\u001b[0m \u001b[38;5;66;03m#Passo 3: Receber o peso da pessoa \u001b[39;00m\n\u001b[0;32m     36\u001b[0m peso \u001b[38;5;241m=\u001b[39m \u001b[38;5;28mfloat\u001b[39m(\u001b[38;5;124m'\u001b[39m\u001b[38;5;124mQual é o seu peso?\u001b[39m\u001b[38;5;124m'\u001b[39m)\n",
      "\u001b[1;31mValueError\u001b[0m: invalid literal for int() with base 10: 'Qual é a sua idade?'"
     ]
    }
   ],
   "source": [
    "#Declarando minha primeira variável \n",
    "#lemos da seguinte forma:\n",
    "#variávelcurso recebe(=) a string #Desenvolvimento de Sistemas\n",
    "#Receba/Armazene o texto \"desenvolvimento de sistemas\"\n",
    "curso = \"Desenvolvimento de Sistemas\"\n",
    "#Exiba o valor armazenado\n",
    "print(\"curso\") #Para imprimir uma variável não se coloca entre \" \"\n",
    "print(curso) #Jeito correto de utilizar uma variável\n",
    "print(\"curso\", curso)\n",
    "\n",
    "#Criando e atribuindo uma variável\n",
    "idade = 16\n",
    "temperatura = 23.5\n",
    "nome = \"Camila\"\n",
    "#Exiba o valor das 3 variáveis\n",
    "print(\"Olá\", nome, \"você tem\", idade, \"hoje está fazendo\", temperatura) #1ºforma\n",
    "print(f'Olá {nome}, você tem {idade} anos, hoje está fazendo {temperatura}ºC') #2ºforma\n",
    "\n",
    "chovendo = False \n",
    "dia = True \n",
    "\n",
    "#Nesta linha abaixo ocorrerá um erro pois não existe uma variável com o nome salario,\n",
    "#então não consegue encontrar nada para exibir\n",
    "#NameError: name 'salario' is not defined\n",
    "#print ('saláaio', salario)\n",
    "\n",
    "#Declarando uma constante, diferentemente da variável que posso alterar o valor na constante não é permitido,\n",
    "#declaramos com o nome todo em maiuscula \n",
    "PI = 3.1415 \n",
    "\n",
    "#Passo 1: Receber o nome da pessoa\n",
    "#No input recebemos uma string\n",
    "nome = input('Qual é o seu nome?')\n",
    "\n",
    "#Passo 2: Receber a  idade da pessoa\n",
    "#Posso converter essa string recebida do tipo inteiro\n",
    "idade = int('Qual é a sua idade?')\n",
    "\n",
    "#Passo 3: Receber o peso da pessoa \n",
    "peso = float('Qual é o seu peso?')\n",
    "#Posso converter essa string recebida do tipo float\n",
    "\n",
    "#Passo 4: Exibir o nome, a idade e o peso\n",
    "print(nome, idade, peso)\n",
    "print(f'Seu nome é {nome}, você tem {idade} anos e pesa {peso}kg')\n",
    "\n",
    "#Exibindo os tipos das variáveis\n",
    "#Tudo o que recebemos do input é do tipo string\n",
    "print(type(nome), type(idade), type(peso))\n",
    "\n",
    "\n",
    "      \n",
    "\n"
   ]
  },
  {
   "cell_type": "markdown",
   "metadata": {},
   "source": [
    "Aula 23/02/2024"
   ]
  },
  {
   "cell_type": "code",
   "execution_count": 1,
   "metadata": {},
   "outputs": [
    {
     "ename": "ValueError",
     "evalue": "could not convert string to float: ''",
     "output_type": "error",
     "traceback": [
      "\u001b[1;31m---------------------------------------------------------------------------\u001b[0m",
      "\u001b[1;31mValueError\u001b[0m                                Traceback (most recent call last)",
      "Cell \u001b[1;32mIn[1], line 2\u001b[0m\n\u001b[0;32m      1\u001b[0m \u001b[38;5;66;03m#Reecebero primeiro número\u001b[39;00m\n\u001b[1;32m----> 2\u001b[0m numero1 \u001b[38;5;241m=\u001b[39m \u001b[38;5;28;43mfloat\u001b[39;49m\u001b[43m(\u001b[49m\u001b[38;5;28;43minput\u001b[39;49m\u001b[43m(\u001b[49m\u001b[38;5;124;43m'\u001b[39;49m\u001b[38;5;124;43mdigite o primeiro número:\u001b[39;49m\u001b[38;5;124;43m'\u001b[39;49m\u001b[43m)\u001b[49m\u001b[43m)\u001b[49m\n\u001b[0;32m      4\u001b[0m \u001b[38;5;66;03m#Receber o segundo número\u001b[39;00m\n\u001b[0;32m      5\u001b[0m numero2 \u001b[38;5;241m=\u001b[39m \u001b[38;5;28mfloat\u001b[39m(\u001b[38;5;28minput\u001b[39m(\u001b[38;5;124m'\u001b[39m\u001b[38;5;124mdigite seu número:\u001b[39m\u001b[38;5;124m'\u001b[39m))\n",
      "\u001b[1;31mValueError\u001b[0m: could not convert string to float: ''"
     ]
    }
   ],
   "source": [
    "#Reecebero primeiro número\n",
    "numero1 = float(input('digite o primeiro número:'))\n",
    "\n",
    "#Receber o segundo número\n",
    "numero2 = float(input('digite seu número:'))\n",
    "\n",
    "#Receber o terceiro número\n",
    "numero3 = float(input('digite o terceiro número: '))\n",
    "\n",
    "#Soma o primeiro número + o segundo número\n",
    "soma= numero1 + numero2 + numero3\n",
    "\n",
    "#Exibir resultado\n",
    "print(soma)\n",
    "print(type(soma))"
   ]
  },
  {
   "cell_type": "code",
   "execution_count": null,
   "metadata": {},
   "outputs": [],
   "source": [
    "umero1 = float(input('digite seu numero: '))\n",
    "numero2 = float(input('digite seu numero: '))\n",
    "\n",
    "resultado=numero1*numero2\n",
    "print (resultado)\n",
    "\n",
    "#passo1: receber o preço do celular\n",
    "preço= float(input('digite seu numero: '))\n",
    "\n",
    "#passo2: receber o valor de desconto\n",
    "desconto= float(input('digite seu numero:  '))\n",
    "\n",
    "#atualizando o valor do produto com o desconto\n",
    "#?????????????????????\n",
    "\n",
    "#passo3: calcular o novo valor do celular\n",
    "novo_preço= preço - desconto \n",
    "print(resultado)"
   ]
  },
  {
   "cell_type": "code",
   "execution_count": null,
   "metadata": {},
   "outputs": [],
   "source": [
    "numero= 4/2\n",
    "print (numero)\n",
    "\n",
    "numero= numero**2\n",
    "print= (numero)\n",
    "\n",
    "numero= numero *(50-20)\n",
    "print (numero)\n",
    "print(f'o valor final é {numero}'"
   ]
  },
  {
   "cell_type": "code",
   "execution_count": null,
   "metadata": {},
   "outputs": [],
   "source": [
    "#passo1: descobrir quantas horas de trabalho vamos usar no projeto 8hx15\n",
    "#passo2: pegar o custo de uma hora de trabalho e multiplicar pelo resultado do passo 1\n",
    "#100rs\n",
    "#passo3: exibir o resultado final do custo do projeto\n",
    "\n",
    "horas_por_dia= 8\n",
    "dias_totais= 15\n",
    "horas_trabalho=horas_por_dia* dias_totais\n",
    "custo_hora= 100\n",
    "custo_total= horas_trabalho* custo_hora\n",
    "print(f'você deve cobrar R$ {custo_total}')"
   ]
  },
  {
   "cell_type": "code",
   "execution_count": null,
   "metadata": {},
   "outputs": [],
   "source": [
    "#Reecebero primeiro número\n",
    "numero1 = float(input('digite o primeiro número:'))\n",
    "\n",
    "#Receber o segundo número\n",
    "numero2 = float(input('digite seu número:'))\n",
    "\n",
    "#Receber o terceiro número\n",
    "numero3 = float(input('digite o terceiro número: '))\n",
    "\n",
    "#Soma o primeiro número + o segundo número\n",
    "soma= numero1 + numero2 + numero3\n",
    "\n",
    "#Exibir resultado\n",
    "print(soma)\n",
    "print(type(soma))"
   ]
  },
  {
   "cell_type": "markdown",
   "metadata": {},
   "source": [
    "29/02/2024 - Operadores relacionais e estrutura condicional "
   ]
  },
  {
   "cell_type": "code",
   "execution_count": 3,
   "metadata": {},
   "outputs": [
    {
     "name": "stdout",
     "output_type": "stream",
     "text": [
      "a > b ? False\n",
      "a == b ? False\n",
      "a != b ? True\n",
      "a > 2 ? False\n",
      "a >= 2 ? True\n"
     ]
    }
   ],
   "source": [
    "a = 2\n",
    "b = 3\n",
    "print(f'a > b ? {a > b}')\n",
    "print(f'a == b ? {a == b}')\n",
    "print(f'a != b ? {a != b}')\n",
    "print(f'a > 2 ? {a > 2}')\n",
    "print(f'a >= 2 ? {a >= 2}')"
   ]
  },
  {
   "cell_type": "code",
   "execution_count": 4,
   "metadata": {},
   "outputs": [
    {
     "name": "stdout",
     "output_type": "stream",
     "text": [
      "Posso entrar\n",
      "fim\n"
     ]
    }
   ],
   "source": [
    "tenho_ingresso = True\n",
    "if tenho_ingresso == True :\n",
    "    print('Posso entrar')\n",
    "print('fim')"
   ]
  },
  {
   "cell_type": "code",
   "execution_count": 10,
   "metadata": {},
   "outputs": [
    {
     "name": "stdout",
     "output_type": "stream",
     "text": [
      "Fim\n"
     ]
    }
   ],
   "source": [
    "# Passo 1: Receber o valor da idade\n",
    "idade = int(input('Qual sua idade?'))\n",
    "\n",
    "# Passo 2: Verificar SE é maior ou igual a 18 ENTÃO \n",
    "if idade >= 18 :\n",
    "\n",
    "    # Passo 3: Se for Exibir \"Maior idade\"\n",
    "    print(\"Maior idade\") \n",
    "\n",
    "print('Fim')   "
   ]
  },
  {
   "cell_type": "code",
   "execution_count": 11,
   "metadata": {},
   "outputs": [
    {
     "name": "stdout",
     "output_type": "stream",
     "text": [
      "Posso entrar\n",
      "fim\n"
     ]
    }
   ],
   "source": [
    "tenho_ingresso = True\n",
    "if tenho_ingresso == True :\n",
    "    print('Posso entrar')\n",
    "else  :\n",
    "    print('Vá comprar') \n",
    "    \n",
    "print('fim')\n",
    "\n"
   ]
  },
  {
   "cell_type": "markdown",
   "metadata": {},
   "source": [
    "01/03/2024 - Operadores lógicos e estrutura condicional"
   ]
  },
  {
   "cell_type": "code",
   "execution_count": 2,
   "metadata": {},
   "outputs": [
    {
     "name": "stdout",
     "output_type": "stream",
     "text": [
      "False\n",
      "False\n",
      "True\n",
      "True\n"
     ]
    }
   ],
   "source": [
    "a = 2\n",
    "b = 3\n",
    "c = 5\n",
    "#       False   e   False\n",
    "print( (a > 2) and (b < 2) )  #False \n",
    "#       False   ou  False\n",
    "print( (a > 2) and (b < 2) )  #False \n",
    "#       False   ou  True\n",
    "print( (a > 2) or (b < 5) )  #True\n",
    "\n",
    "idade = 18\n",
    "#          False         True\n",
    "print( idade > 18 or idade == 18 )\n",
    "#           idade >= 18"
   ]
  },
  {
   "cell_type": "code",
   "execution_count": 7,
   "metadata": {},
   "outputs": [
    {
     "name": "stdout",
     "output_type": "stream",
     "text": [
      "peso ideal!\n"
     ]
    }
   ],
   "source": [
    "altura = float(input('Digite sua altura:'))\n",
    "peso = float(input('Digite seu peso:'))\n",
    "imc = peso / (altura ** 2)\n",
    "if imc < 18.5 :\n",
    "    print('Abaixo do peso!')\n",
    "elif imc >= 18.6 and imc <= 24.9 :\n",
    "    print('peso ideal!')\n",
    "elif imc >= 25 and imc <= 29.9 :\n",
    "    print('sobrepeso')\n",
    "    🥗🍔🍕🍟🌭🍿🍦🍧🍨🍩🧃"
   ]
  },
  {
   "cell_type": "code",
   "execution_count": 2,
   "metadata": {},
   "outputs": [
    {
     "name": "stdout",
     "output_type": "stream",
     "text": [
      "Triângulo Escaleno\n"
     ]
    }
   ],
   "source": [
    "lado1 = input('Digite lado 1:')\n",
    "lado2 = input('Digite lado 2:')\n",
    "lado3 = input('Digite lado 3:')\n",
    "if (lado1 == lado2) and (lado2 == lado3) :\n",
    "    print('Triâgulo equilátero')\n",
    "elif (lado1 != lado2) and (lado2 != lado3) and (lado1 != lado3) :\n",
    "    print ('Triângulo Escaleno')\n",
    "else:\n",
    "    print('Triângulo isósceles')"
   ]
  },
  {
   "cell_type": "code",
   "execution_count": null,
   "metadata": {},
   "outputs": [],
   "source": [
    "letra = input('Digite uma letra:')\n",
    "if letra == 'a' or letra == 'e' or letra == 'i' or letra == 'o' or letra == 'u' :\n",
    "    print(f'a letra {letra} é uma vogal')\n",
    "elif letra == '1' or letra =='2' or letra =='3' :\n",
    "    print(f'a letra {letra} é um número')\n",
    "else: \n",
    "    print(f'a letra {letra} é uma vogal')\n",
    "\n"
   ]
  },
  {
   "cell_type": "markdown",
   "metadata": {},
   "source": [
    "07/03/2024 - Estrutura condicional aninhada / match case"
   ]
  },
  {
   "cell_type": "code",
   "execution_count": null,
   "metadata": {},
   "outputs": [],
   "source": [
    "idade = int(input('Digite sua idade'))\n",
    "if idade >= 18 and idade <= 70:\n",
    "    print ('Você é obrigado a votar')\n",
    "else: \n",
    " if idade < 16:\n",
    "    print ('Você não pode votar') \n",
    " else:\n",
    "    if idade >= 16 or idade > 70:\n",
    "       print ('Seu voto é facultativo') \n"
   ]
  },
  {
   "cell_type": "code",
   "execution_count": null,
   "metadata": {},
   "outputs": [],
   "source": [
    "valor1 = int(input('Digite um número inteiro'))\n",
    "valor2 = int(input('Digite um número inteiro'))\n",
    "operador = (input('Digite o operador + - * / **'))\n",
    "match operador:\n",
    "    case '+':\n",
    "        print(f'{valor1}+{valor2}={valor1+valor2}')\n",
    "    case '-':\n",
    "        print (f'{valor1}-{valor2}={valor1+valor2}')\n",
    "    case '*':\n",
    "        print (f'{valor1}*{valor2}={valor1+valor2}')\n",
    "    case '/':\n",
    "        print(f'{valor1}/{valor2}={valor1+valor2}')\n",
    "    case '**':\n",
    "        print (f'{valor1}**{valor2}={valor1+valor2}')"
   ]
  },
  {
   "cell_type": "markdown",
   "metadata": {},
   "source": [
    "08/03/2024 - Laço de repetição - While"
   ]
  },
  {
   "cell_type": "code",
   "execution_count": null,
   "metadata": {},
   "outputs": [],
   "source": [
    "X = 1 \n",
    "while X <= 10:\n",
    "    print ('Eu não vou prestar atenção na aula')\n",
    "    X = X + 1\n",
    "print ('FIM')"
   ]
  },
  {
   "cell_type": "code",
   "execution_count": null,
   "metadata": {},
   "outputs": [],
   "source": [
    "import time #Importando uma biblioteca de tempo\n",
    "x = 10 \n",
    "while x >= 0:\n",
    "    print(x)\n",
    "    time.sleep(0.5) #Dando uma pausa de 1s na execução\n",
    "    x = x - 1 \n",
    "print ('Feliz ano novo 🎆') "
   ]
  },
  {
   "cell_type": "code",
   "execution_count": null,
   "metadata": {},
   "outputs": [],
   "source": [
    "texto = ''\n",
    "while texto != 'sair':\n",
    "  texto = input('Digite seu nome (\"sair\" para terminar):')\n",
    "  print (f'Seja bem vindo, {texto}')"
   ]
  },
  {
   "cell_type": "code",
   "execution_count": null,
   "metadata": {},
   "outputs": [],
   "source": [
    "senha_senai = 'Joguem friv jogos'\n",
    "nr_tentativa = 0\n",
    "while True :\n",
    "    senha = input ('Qual é a senha 🤯?\"Desisto\" para sair😮')\n",
    "    if senha == senha_senai :\n",
    "        print('Você hackeou a rede')\n",
    "        break   \n",
    "    elif senha == 'Desisto': \n",
    "        break\n",
    "    else:\n",
    "        nr_tentativa = nr_tentativa + 1\n",
    "        if nr_tentativa == 3:\n",
    "            print ('Você está preso tentando hackear a rede')\n",
    "            break\n",
    "print ('FIM')\n"
   ]
  },
  {
   "cell_type": "markdown",
   "metadata": {},
   "source": [
    "21/03/2024 - Revisão do while"
   ]
  },
  {
   "cell_type": "code",
   "execution_count": 1,
   "metadata": {},
   "outputs": [
    {
     "name": "stdout",
     "output_type": "stream",
     "text": [
      "FIM\n"
     ]
    }
   ],
   "source": [
    "resp = 's'\n",
    "while resp == 's' :\n",
    "    resp = input('Deseja continuar? [S/N]')\n",
    "\n",
    "\n",
    "print('FIM')"
   ]
  },
  {
   "cell_type": "code",
   "execution_count": 5,
   "metadata": {},
   "outputs": [
    {
     "name": "stdout",
     "output_type": "stream",
     "text": [
      "Valor Total R$ 16.00\n"
     ]
    }
   ],
   "source": [
    "soma = 0\n",
    "while True :\n",
    "    valor = float(input('digite o valor do produto [-1 para encerrar]'))\n",
    "    if valor == -1 :\n",
    "        break \n",
    "    soma = valor + soma\n",
    "    qtde = qtde + 1 \n",
    "\n",
    "print(f'Valor Total R$ {soma:.2f} qtde prduto {qtde}') "
   ]
  },
  {
   "cell_type": "code",
   "execution_count": null,
   "metadata": {},
   "outputs": [],
   "source": [
    "#Importando a biblioteca de números aleatórios\n",
    "import random \n",
    "#sorteando um número de 1 a 100\n",
    "nrSorteado = random.randint(1, 100)\n",
    "\n",
    "print('_=_=_=_=_=_=_=_=_=_=_=_=_=_=_=_=')\n",
    "print('🤔Jogo da adivinhação🤔')\n",
    "print('_=_=_=_=_=_=_=_=_=_=_=_=_=_=_=_=')\n",
    "\n",
    "acertou = False \n",
    "while acertou == False :\n",
    "    chute = int(input(' Digite um número entre 1 e 100:'))\n",
    "    if chute == nrSorteado :\n",
    "        print (f'Você chutou {chute}. Parabéns você acertou 👏👏👏')\n",
    "        acertou = True \n",
    "    elif chute > nrSorteado :\n",
    "        print (f'Você chutou {chute}. Tente um número 👇')\n",
    "    else :\n",
    "        print (f'Você chutou {chute}. Tente um número 👆')\n",
    "\n",
    "print('FIM')\n",
    "\n",
    "\n"
   ]
  },
  {
   "cell_type": "markdown",
   "metadata": {},
   "source": [
    "22/03/2024 - For"
   ]
  },
  {
   "cell_type": "code",
   "execution_count": null,
   "metadata": {},
   "outputs": [],
   "source": [
    "for x in range(10) :\n",
    "    print(x)"
   ]
  },
  {
   "cell_type": "code",
   "execution_count": null,
   "metadata": {},
   "outputs": [],
   "source": [
    "print('entregando os notebooks')\n",
    "for nr in range(32) :\n",
    "    nr = nr + 1\n",
    "    nome = input(f'Queme o n° {nr}?')\n",
    "    presente = input(f'O(a) {nome} veio para a escola? [S/N]')\n",
    "    if presente == 'S' :\n",
    "        print(f'Pegar o notebook {nr}')\n",
    "        print(f'Pegar o mouse {nr}')\n",
    "        print(f'Levar oo notebook até o(a) {nome}')\n",
    "else :\n",
    "    print(f'Não pegar o notebook {nr}')\n",
    "\n",
    "    print(f'Começar a aula')"
   ]
  },
  {
   "cell_type": "code",
   "execution_count": 2,
   "metadata": {},
   "outputs": [
    {
     "name": "stdout",
     "output_type": "stream",
     "text": [
      "5\n",
      "6\n",
      "7\n",
      "8\n",
      "9\n"
     ]
    }
   ],
   "source": [
    "for x in range(5, 10) :\n",
    "    print(x)"
   ]
  },
  {
   "cell_type": "code",
   "execution_count": 4,
   "metadata": {},
   "outputs": [
    {
     "name": "stdout",
     "output_type": "stream",
     "text": [
      "5\n",
      "7\n",
      "9\n",
      "11\n",
      "13\n",
      "15\n",
      "17\n",
      "19\n",
      "21\n",
      "23\n",
      "25\n",
      "27\n",
      "29\n"
     ]
    }
   ],
   "source": [
    "for x in range (5, 30, 2) :\n",
    "    print(x)"
   ]
  },
  {
   "cell_type": "code",
   "execution_count": 5,
   "metadata": {},
   "outputs": [
    {
     "name": "stdout",
     "output_type": "stream",
     "text": [
      "10 x 0 = 0\n",
      "10 x 1 = 10\n",
      "10 x 2 = 20\n",
      "10 x 3 = 30\n",
      "10 x 4 = 40\n",
      "10 x 5 = 50\n",
      "10 x 6 = 60\n",
      "10 x 7 = 70\n",
      "10 x 8 = 80\n",
      "10 x 9 = 90\n",
      "10 x 10 = 100\n"
     ]
    }
   ],
   "source": [
    "n = int(input('Digite o nr:'))\n",
    "for x in range (11) :\n",
    "    print(f'{n} x {x} = {n*x}')"
   ]
  },
  {
   "cell_type": "markdown",
   "metadata": {},
   "source": [
    "28/03/2024 - Variáveis compostas - vetores/listas "
   ]
  },
  {
   "cell_type": "code",
   "execution_count": 1,
   "metadata": {},
   "outputs": [
    {
     "name": "stdout",
     "output_type": "stream",
     "text": [
      "['Maçã', 'Banana', 'Abacaxi', 'Uva']\n",
      "Maçã\n"
     ]
    }
   ],
   "source": [
    "frutas = ['Maçã', 'Banana', 'Abacaxi', 'Uva']\n",
    "print(frutas)\n",
    "print(frutas[0])\n",
    "\n",
    "#Declaração de uma lista vazia\n",
    "lista_vazia = []\n",
    "\n",
    "#Declaração de uma lista de números \n",
    "numeros = [5, 8, 10, 40, 3]\n",
    "\n",
    "#Declaração de uma lista de strings \n",
    "nomes = ['Ana', 'João', 'Maria']\n",
    "\n",
    "#Declaração de uma lista mista\n",
    "lista_mista = [1, \"Teste\", True, 3.5]"
   ]
  },
  {
   "cell_type": "code",
   "execution_count": 6,
   "metadata": {},
   "outputs": [
    {
     "name": "stdout",
     "output_type": "stream",
     "text": [
      "['Maçã', 'Banana', 'Abacaxi', 'Melancia']\n",
      "['Maçã', 'Banana', 'Abacaxi', 'Melancia', 'Laranja']\n",
      "['Maçã', 'Banana', 'Morango', 'Abacaxi', 'Melancia', 'Laranja']\n",
      "['Maçã', 'Banana', 'Morango', 'Melancia']\n"
     ]
    }
   ],
   "source": [
    "frutas = ['Maçã', 'Banana', 'Abacaxi', 'Uva']\n",
    "#Alterando o valor de um item da lista\n",
    "frutas[3] = 'Melancia'\n",
    "print(frutas)\n",
    "\n",
    "#Incluindo um novo item no final da lista \n",
    "frutas.append('Laranja')\n",
    "print(frutas)\n",
    "\n",
    "#Incluindo um novo item em uma posição específica\n",
    "frutas.insert(2, 'Morango')\n",
    "print(frutas)\n",
    "\n",
    "#Excluindo item da lista\n",
    "#del frutas[3]\n",
    "#frutas.pop(3)\n",
    "frutas.remove('Abacaxi')\n",
    "#Excluindo último item da lista\n",
    "frutas.pop()\n",
    "print(frutas)\n",
    "\n",
    "frutas = ['Maçã', 'Banana', 'Morango', 'Abacaxi', 'Melancia', 'Laranja', 'Uva']\n",
    "print(frutas[4]) #Posição específica\n",
    "print(frutas[0:4]) #Da posição 0 pegar 4 itens \n",
    "print(frutas [1:]) #Da posição 1 até o último\n",
    "print(frutas[-2:]) #Nr do itens do fim pro ínicio \n",
    "print(frutas[-1]) #Ultimo item da lista\n",
    "print(len(frutas)) #Total de itens da lista\n",
    "\n",
    "frutas.sort () #Ordenando lista em ordem crescente\n",
    "print (frutas)\n",
    "frutas.reverse () #Ordenando lista em ordem crescente \n",
    "print (frutas)\n"
   ]
  },
  {
   "cell_type": "markdown",
   "metadata": {},
   "source": [
    "Aula 04/04/2024 - Iteração em listas "
   ]
  },
  {
   "cell_type": "code",
   "execution_count": 7,
   "metadata": {},
   "outputs": [
    {
     "name": "stdout",
     "output_type": "stream",
     "text": [
      "É uma vogal\n"
     ]
    }
   ],
   "source": [
    "#Criando uma lista de vogais\n",
    "vogais = ['a', 'e', 'i', 'o', 'u']\n",
    "consoantes = ['q', 'w', 'r', 't', 'y', 'p', 's', 'd', 'f', 'g', 'h', 'j', 'k', 'l', 'z', 'x', 'c', 'v', 'b', 'n', 'm']\n",
    "#Recebendo um caractere digitado pelo usuário\n",
    "letra = input('Informe um caractere')\n",
    "consoante = input('Informe um caractere')\n",
    "# o método .lower() deixa todas as letras digitadas como minúscula\n",
    "# o método .lower() deixa todas as letras digitadas como maiuscúla\n",
    "# lemos da seguinte forma:\n",
    "# SE a letra em MINUSCULA ESTIVER na lista de vogais ENTÃO\n",
    "if letra.lower() in vogais :\n",
    "    print('É uma vogal')\n",
    "elif letra.lower() in consoantes:\n",
    "    print(f'{letra} é uma consoante')\n",
    "else : \n",
    "    print (f'{letra} não é uma letra')"
   ]
  },
  {
   "cell_type": "code",
   "execution_count": 8,
   "metadata": {},
   "outputs": [
    {
     "name": "stdout",
     "output_type": "stream",
     "text": [
      "Pelé\n",
      "Maradona\n",
      "Messi\n",
      "ristiano Ronaldo\n"
     ]
    }
   ],
   "source": [
    "listaNomes = ['Pelé', 'Maradona', 'Messi', 'ristiano Ronaldo']\n",
    "for nome in listaNomes :\n",
    "    print(nome)"
   ]
  },
  {
   "cell_type": "code",
   "execution_count": 9,
   "metadata": {},
   "outputs": [
    {
     "name": "stdout",
     "output_type": "stream",
     "text": [
      "4\n",
      "10\n",
      "12\n",
      "17\n",
      "26\n"
     ]
    }
   ],
   "source": [
    "listaNrs = [4, 6, 2, 5, 9]\n",
    "soma = 0\n",
    "for nr in listaNrs :\n",
    "    soma = soma + nr \n",
    "print(soma)"
   ]
  },
  {
   "cell_type": "code",
   "execution_count": 10,
   "metadata": {},
   "outputs": [
    {
     "name": "stdout",
     "output_type": "stream",
     "text": [
      "A fruta Maça está na posição 0\n",
      "A fruta Banana está na posição 1\n",
      "A fruta Abacaxi está na posição 2\n",
      "A fruta Uva está na posição 3\n"
     ]
    }
   ],
   "source": [
    "listaFrutas = ['Maça', 'Banana', 'Abacaxi', 'Uva']\n",
    "for pos, fruta in enumerate(listaFrutas):\n",
    "    print(f'A fruta {fruta} está na posição {pos}')"
   ]
  },
  {
   "cell_type": "code",
   "execution_count": 11,
   "metadata": {},
   "outputs": [
    {
     "name": "stdout",
     "output_type": "stream",
     "text": [
      "Celular\n",
      "Notebook\n",
      "TV\n",
      "Tablet\n",
      "Headset\n"
     ]
    }
   ],
   "source": [
    "produtos = 'Celular,Notebook,TV,Tablet,Headset'\n",
    "listaProdutos = produtos.split(',')\n",
    "for produto in listaProdutos:\n",
    "    print(produto)"
   ]
  },
  {
   "cell_type": "code",
   "execution_count": 12,
   "metadata": {},
   "outputs": [
    {
     "name": "stdout",
     "output_type": "stream",
     "text": [
      "S\n",
      "E\n",
      "N\n",
      "A\n",
      "I\n"
     ]
    }
   ],
   "source": [
    "palavra = 'SENAI'\n",
    "for letra in palavra:\n",
    "    print(letra)"
   ]
  },
  {
   "cell_type": "code",
   "execution_count": null,
   "metadata": {},
   "outputs": [],
   "source": [
    "#Criando uma lista vazia\n",
    "listaComidas = []\n",
    "#Laço de repetição sem um nr de execução definida\n",
    "while True :\n",
    "    # Recebendo informação do usuário e armzenando uma variável\n",
    "    comida = input('Digite uma comida que você mais gosta:')\n",
    "    # Inserindo o valor da variável no final da nossa lista\n",
    "    listaComidas.append(comida)\n",
    "    # Obtendo a resposta do usuário se de seja continuar \n",
    "    resp = input('Deseja continuar? [S/N]')\n",
    "    # Verificando condição da resposta dele, se for N ou n sair do laço\n",
    "    if resp in 'Nn' :\n",
    "        # Parando o laço de repetição while\n",
    "        break \n",
    "\n",
    "    # Fora do while - após finalizar sua execução e encontrar o break \n",
    "    # Laçode repetição para exibir os itens e suas posições\n",
    "    for pos, comida in enumerate(listaComidas):\n",
    "        # Exibindo as variáveis de cada item da lista\n",
    "       print(f'{pos+1}º {comida}')\n",
    "\n",
    "    print(listaComidas[0])"
   ]
  },
  {
   "cell_type": "markdown",
   "metadata": {},
   "source": [
    "Aula 11/04/2024 - Funções"
   ]
  },
  {
   "cell_type": "code",
   "execution_count": 2,
   "metadata": {},
   "outputs": [
    {
     "name": "stdout",
     "output_type": "stream",
     "text": [
      "--------------------\n",
      "SESI / SENAI\n",
      "--------------------\n"
     ]
    }
   ],
   "source": [
    "print ( '-' * 20)\n",
    "print ('SESI / SENAI')\n",
    "print ( '-' * 20)"
   ]
  },
  {
   "cell_type": "code",
   "execution_count": 5,
   "metadata": {},
   "outputs": [
    {
     "name": "stdout",
     "output_type": "stream",
     "text": [
      "--------------------\n",
      "SESI/SENAI\n",
      "--------------------\n"
     ]
    }
   ],
   "source": [
    "def Linha() :\n",
    "    print('-' * 20)\n",
    "\n",
    "Linha() \n",
    "print('SESI/SENAI')\n",
    "Linha()"
   ]
  },
  {
   "cell_type": "code",
   "execution_count": 9,
   "metadata": {},
   "outputs": [
    {
     "name": "stdout",
     "output_type": "stream",
     "text": [
      "--------------------\n",
      "SESI/SENAI\n",
      "--------------------\n",
      "--------------------\n",
      "SESI/SENAI\n",
      "--------------------\n",
      "--------------------\n",
      "SESI/SENAI\n",
      "--------------------\n"
     ]
    }
   ],
   "source": [
    "def Cabecalho() :\n",
    "    print('-' * 20)\n",
    "    print('SESI/SENAI')\n",
    "    print('-' * 20)\n",
    "\n",
    "Cabecalho()\n",
    "Cabecalho()\n",
    "Cabecalho()\n"
   ]
  },
  {
   "cell_type": "code",
   "execution_count": 16,
   "metadata": {},
   "outputs": [
    {
     "name": "stdout",
     "output_type": "stream",
     "text": [
      "Camila Tenha um bom dia\n",
      "Livy Tenha um bom dia\n",
      "Douglas Tenha um bom dia\n"
     ]
    }
   ],
   "source": [
    "def Funcao() :\n",
    "    nome = input('Digite seu nome')\n",
    "    print(f'{nome} Tenha um bom dia')\n",
    "\n",
    "Funcao()\n",
    "Funcao()\n",
    "Funcao()"
   ]
  },
  {
   "cell_type": "code",
   "execution_count": 19,
   "metadata": {},
   "outputs": [
    {
     "name": "stdout",
     "output_type": "stream",
     "text": [
      "A soma de 10 + 5 é 15\n"
     ]
    }
   ],
   "source": [
    "def Soma(n1, n2) :\n",
    "    res = n1 + n2\n",
    "    print(f'A soma de {n1} + {n2} é {res}')\n",
    "\n",
    "Soma(10, 5)"
   ]
  },
  {
   "cell_type": "code",
   "execution_count": 27,
   "metadata": {},
   "outputs": [
    {
     "name": "stdout",
     "output_type": "stream",
     "text": [
      "o número 2 é par\n",
      "o número 3 é impar\n"
     ]
    }
   ],
   "source": [
    "def ParImpar(numero) :\n",
    "    if (numero % 2 == 0):\n",
    "        print(f'o número {numero} é par')\n",
    "    else:\n",
    "        print(f'o número {numero} é impar')\n",
    "\n",
    "ParImpar(2)\n",
    "ParImpar(3)"
   ]
  },
  {
   "cell_type": "code",
   "execution_count": 29,
   "metadata": {},
   "outputs": [
    {
     "name": "stdout",
     "output_type": "stream",
     "text": [
      "9.0\n",
      "6.0\n"
     ]
    }
   ],
   "source": [
    "def Media(n1, n2) :\n",
    "    res = (n1 + n2) / 2\n",
    "    return(res)\n",
    "\n",
    "# A variavel resultado_media recebe o retorno da função Media\n",
    "resultado_media = Media(10, 8)\n",
    "print(resultado_media)\n",
    "print(Media(10, 2))"
   ]
  },
  {
   "cell_type": "code",
   "execution_count": 35,
   "metadata": {},
   "outputs": [
    {
     "name": "stdout",
     "output_type": "stream",
     "text": [
      "(27, 2, 1989)\n",
      "(27, 2, 1989)\n"
     ]
    }
   ],
   "source": [
    "def FormatarData(dia, mes, ano) :\n",
    "    data = (25, 12, 1987)\n",
    "    return(data)\n",
    "def FormatarData(dia, mes, ano) :\n",
    "    data = (27, 2, 1989)\n",
    "    return(data)\n",
    "\n",
    "print(FormatarData(25, 12, 1987))\n",
    "print(FormatarData(27, 2, 1989))\n",
    "\n"
   ]
  },
  {
   "cell_type": "markdown",
   "metadata": {},
   "source": [
    "12/04/2024 - Escopo de variáveis (Variável local e global)"
   ]
  },
  {
   "cell_type": "code",
   "execution_count": 2,
   "metadata": {},
   "outputs": [
    {
     "name": "stdout",
     "output_type": "stream",
     "text": [
      "Valor ANTES da função SENAI\n",
      "Valor dentro da faunção SESI\n",
      "Valor DEPOIS da função SENAI\n"
     ]
    }
   ],
   "source": [
    "def NomeEscola() :\n",
    "    escola = 'SESI'\n",
    "    print(f'Valor dentro da faunção {escola}')\n",
    "\n",
    "escola = 'SENAI'\n",
    "print(f'Valor ANTES da função {escola}')\n",
    "NomeEscola()\n",
    "print(f'Valor DEPOIS da função {escola}')"
   ]
  },
  {
   "cell_type": "code",
   "execution_count": 3,
   "metadata": {},
   "outputs": [
    {
     "name": "stdout",
     "output_type": "stream",
     "text": [
      "Valor ANTES da função SENAI\n",
      "Valor dentro da função SENAI\n",
      "Valor DEPOIS da função SENAI\n"
     ]
    }
   ],
   "source": [
    "def NomeEscola():\n",
    "    # Caso eu queira atualizar o conteúdo da variável escola\n",
    "    # preciso escrever que ela é a global\n",
    "    global escola\n",
    "    escola = 'SENAI' # Alterando o valor da variavel global\n",
    "    print(f'Valor dentro da função {escola}')\n",
    "\n",
    "escola = 'SENAI'\n",
    "print(f'Valor ANTES da função {escola}')\n",
    "NomeEscola()\n",
    "print(f'Valor DEPOIS da função {escola}')"
   ]
  },
  {
   "cell_type": "code",
   "execution_count": null,
   "metadata": {},
   "outputs": [],
   "source": [
    "x = 10 # X é uma variável global \n",
    "# Podemos acessar x fora de uma função também \n",
    "print('fora da função', x)\n",
    "\n",
    "def minhaFuncao() :\n",
    "    '''\n",
    "        Aqui posso escrever a descrição do que faz a minha função\n",
    "    '''\n",
    "    global x #Dizendo que usaremos a variavel x global\n",
    "\n",
    "    x = x + 1 \n",
    "    print('Dentro da função', x)\n",
    "\n",
    "minhaFuncao()\n",
    "print('fora da função', x)\n"
   ]
  }
 ],
 "metadata": {
  "kernelspec": {
   "display_name": "Python 3",
   "language": "python",
   "name": "python3"
  },
  "language_info": {
   "codemirror_mode": {
    "name": "ipython",
    "version": 3
   },
   "file_extension": ".py",
   "mimetype": "text/x-python",
   "name": "python",
   "nbconvert_exporter": "python",
   "pygments_lexer": "ipython3",
   "version": "3.12.3"
  }
 },
 "nbformat": 4,
 "nbformat_minor": 2
}
