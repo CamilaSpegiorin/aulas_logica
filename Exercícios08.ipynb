{
 "cells": [
  {
   "cell_type": "markdown",
   "metadata": {},
   "source": [
    "1- Crie uma lista com os números de 1 a 10 e imprima cada número"
   ]
  },
  {
   "cell_type": "code",
   "execution_count": 44,
   "metadata": {},
   "outputs": [
    {
     "name": "stdout",
     "output_type": "stream",
     "text": [
      "1\n",
      "2\n",
      "3\n",
      "4\n",
      "5\n",
      "6\n",
      "7\n",
      "8\n",
      "9\n",
      "10\n"
     ]
    }
   ],
   "source": [
    "listaNrs = [1, 2, 3, 4, 5, 6, 7, 8, 9, 10]\n",
    "for numero in listaNrs :\n",
    "    print(numero)"
   ]
  },
  {
   "cell_type": "markdown",
   "metadata": {},
   "source": [
    "2- Crie uma lista com os nomes de três amigos e imprima cada nome"
   ]
  },
  {
   "cell_type": "code",
   "execution_count": 45,
   "metadata": {},
   "outputs": [
    {
     "name": "stdout",
     "output_type": "stream",
     "text": [
      "Mariana\n",
      "Gabi\n",
      "LIvy\n"
     ]
    }
   ],
   "source": [
    "listaNomes = ['Mariana', 'Gabi', 'LIvy']\n",
    "for nome in listaNomes :\n",
    "    print(nome)"
   ]
  },
  {
   "cell_type": "markdown",
   "metadata": {},
   "source": [
    "3- Crie uma lista com os meses do ano e imprima apenas os meses que começam com \"J\""
   ]
  },
  {
   "cell_type": "code",
   "execution_count": 47,
   "metadata": {},
   "outputs": [
    {
     "name": "stdout",
     "output_type": "stream",
     "text": [
      "Janeiro\n",
      "Fevereiro\n",
      "Março\n",
      "Abril\n",
      "Maio\n",
      "Junho\n",
      "Julho\n",
      "Agosto\n",
      "Setembro\n",
      "Outubro\n",
      "Novembro\n",
      "Dezembro\n"
     ]
    }
   ],
   "source": [
    "ListaMeses = ['Janeiro', 'Fevereiro', 'Março', 'Abril', \"Maio\", 'Junho', 'Julho', 'Agosto', 'Setembro', 'Outubro', 'Novembro', 'Dezembro']\n",
    "for mes in ListaMeses :\n",
    "    if mes[0] == 'J' :  \n",
    "        print(mes)\n"
   ]
  },
  {
   "cell_type": "markdown",
   "metadata": {},
   "source": [
    "4- Crie uma lista com as palavras \"gato\", \"cachorro\", \"pássaro\" e \"peixe\", e imprima cada palavra\n",
    "em maiúsculas"
   ]
  },
  {
   "cell_type": "code",
   "execution_count": 54,
   "metadata": {},
   "outputs": [
    {
     "name": "stdout",
     "output_type": "stream",
     "text": [
      "GATO\n",
      "CACHORRO\n",
      "PÁSSARO\n",
      "PEIXE\n"
     ]
    }
   ],
   "source": [
    "ListaAnimais = ['gato', 'cachorro', 'pássaro', 'peixe']\n",
    "for animal in ListaAnimais :\n",
    "    print(animal.upper())"
   ]
  },
  {
   "cell_type": "markdown",
   "metadata": {},
   "source": [
    "5- Crie uma lista com 5 números aleatórios e exiba o nr e seu dobro desse"
   ]
  },
  {
   "cell_type": "code",
   "execution_count": 58,
   "metadata": {},
   "outputs": [
    {
     "name": "stdout",
     "output_type": "stream",
     "text": [
      "2 4\n",
      "4 8\n",
      "3 6\n",
      "6 12\n",
      "5 10\n"
     ]
    }
   ],
   "source": [
    "listaNrs = [2, 4, 3, 6, 5]\n",
    "for numero in listaNrs :\n",
    "    dobro = numero * 2 \n",
    "    print(numero, dobro)"
   ]
  },
  {
   "cell_type": "markdown",
   "metadata": {},
   "source": [
    "6- Crie uma lista com valores numéricos e encontre o maior e o menor elemento dessa lista"
   ]
  },
  {
   "cell_type": "code",
   "execution_count": 59,
   "metadata": {},
   "outputs": [
    {
     "name": "stdout",
     "output_type": "stream",
     "text": [
      "1 3\n"
     ]
    }
   ],
   "source": [
    "listaNrs = [1, 2, 3]\n",
    "menorNr = 100000000\n",
    "maiorNr = 0\n",
    "for nrAtual in listaNrs :\n",
    "    if nrAtual > maiorNr :\n",
    "        maiorNr = nrAtual\n",
    "    if nrAtual < menorNr :\n",
    "        menorNr = nrAtual \n",
    "\n",
    "print(menorNr, maiorNr)\n"
   ]
  },
  {
   "cell_type": "markdown",
   "metadata": {},
   "source": [
    "7- Receba uma palavra do usuário e calcule quantas vogais há nesta palavra"
   ]
  },
  {
   "cell_type": "code",
   "execution_count": null,
   "metadata": {},
   "outputs": [],
   "source": [
    "palavra = input('Digite uma palavra')\n",
    "vogais = ['a', 'e', 'i', 'o', 'u']\n",
    "qtdeVogais = 0\n",
    "for letra in palavra :\n",
    "    if letra.lower() in vogais :\n",
    "        qtdeVogais = qtdeVogais + 1\n",
    "\n",
    "print(f'A palavra {palavra} tem {qtdeVogais} vogais')"
   ]
  },
  {
   "cell_type": "markdown",
   "metadata": {},
   "source": [
    "8- Nessa string ‘Gol;Corsa;Palio;Monza;Fusca;’, faça a separação desses itens para uma lista e\n",
    "exiba o item e a posição que ele está"
   ]
  },
  {
   "cell_type": "code",
   "execution_count": null,
   "metadata": {},
   "outputs": [],
   "source": []
  }
 ],
 "metadata": {
  "kernelspec": {
   "display_name": "Python 3",
   "language": "python",
   "name": "python3"
  },
  "language_info": {
   "codemirror_mode": {
    "name": "ipython",
    "version": 3
   },
   "file_extension": ".py",
   "mimetype": "text/x-python",
   "name": "python",
   "nbconvert_exporter": "python",
   "pygments_lexer": "ipython3",
   "version": "3.12.3"
  }
 },
 "nbformat": 4,
 "nbformat_minor": 2
}
