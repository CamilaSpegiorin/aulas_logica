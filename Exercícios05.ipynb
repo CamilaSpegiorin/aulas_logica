{
 "cells": [
  {
   "cell_type": "markdown",
   "metadata": {},
   "source": [
    " 1. Utilizando o comando while, exiba todos os números pares, de 1 a 20.\n"
   ]
  },
  {
   "cell_type": "code",
   "execution_count": 1,
   "metadata": {},
   "outputs": [
    {
     "name": "stdout",
     "output_type": "stream",
     "text": [
      "O número 2 é par\n",
      "O número 4 é par\n",
      "O número 6 é par\n",
      "O número 8 é par\n",
      "O número 10 é par\n",
      "O número 12 é par\n",
      "O número 14 é par\n",
      "O número 16 é par\n",
      "O número 18 é par\n",
      "O número 20 é par\n"
     ]
    }
   ],
   "source": [
    "x = 1\n",
    "while x <= 20 :\n",
    "    if x % 2 == 0 :\n",
    "        print(f'O número {x} é par')\n",
    "    x = x + 1 "
   ]
  },
  {
   "cell_type": "markdown",
   "metadata": {},
   "source": [
    "2. Gere os 6 números do sorteio da mega-sena de forma aleatória."
   ]
  },
  {
   "cell_type": "code",
   "execution_count": null,
   "metadata": {},
   "outputs": [],
   "source": [
    "import random \n",
    "x = 1 \n",
    "while x <= 6 :\n",
    "    nr = random.randint(1, 60)\n",
    "    print (nr)\n",
    "    x = x + 1 # x + 1"
   ]
  },
  {
   "cell_type": "markdown",
   "metadata": {},
   "source": [
    "3. Receba alguns número e verifique a soma e a quantidade de todos os pares e ímpares\n",
    "digitados, digite 0 para não receber mais"
   ]
  },
  {
   "cell_type": "code",
   "execution_count": null,
   "metadata": {},
   "outputs": [],
   "source": [
    "soma = 0\n",
    "qtdepar = 0\n",
    "qtdeimpar = 0\n",
    "\n",
    "\n",
    "    nr = int(input('Digite o valor. [0 para encerrar]'))\n",
    "    if nr == 0 :\n",
    "        break\n",
    "    if nr % 2 == 0 :\n",
    "        qtdepar += 1  # qtdepar = qtdepar + 1 \n",
    "    if nr % 2 == 1 :\n",
    "        qtdeimpar += 1  #  qtdeimpar = qtdeimpar + 1 \n",
    "        soma += nr while True :\n",
    "\n",
    "    print(f'A soma é {soma} são {qtdepar} pares e {qtdeimpar} impares')"
   ]
  },
  {
   "cell_type": "markdown",
   "metadata": {},
   "source": [
    "4. Faça um programa em Python que leia 5 valores inteiros e:\n",
    "• Encontre e mostre o maior valor\n",
    "• Encontre e mostre o menor valor\n",
    "• Calcule e mostre a média dos números lidos"
   ]
  },
  {
   "cell_type": "code",
   "execution_count": null,
   "metadata": {},
   "outputs": [],
   "source": []
  },
  {
   "cell_type": "markdown",
   "metadata": {},
   "source": [
    "5. Faça um programa que receba um número e mostre seu fatorial. Ex. :\n",
    "5! = 5 * 4 * 3 * 2 * 1 = 120"
   ]
  },
  {
   "cell_type": "code",
   "execution_count": null,
   "metadata": {},
   "outputs": [],
   "source": []
  },
  {
   "cell_type": "markdown",
   "metadata": {},
   "source": [
    "6. Crie um programa com um menu, onde irá receber 2 números, e pelo menu perguntar qual\n",
    "operação deseja realizar\n",
    "[1] Somar os números\n",
    "[2] Subtrair os números\n",
    "[3] Multiplicar os números\n",
    "[4] Dividir os números\n",
    "[5] Sair"
   ]
  },
  {
   "cell_type": "code",
   "execution_count": null,
   "metadata": {},
   "outputs": [],
   "source": []
  },
  {
   "cell_type": "markdown",
   "metadata": {},
   "source": [
    "7. Crie um sistema bancário, onde começo recebendo o nome do cliente e seu saldo zerado, crie\n",
    "as opções em um menu onde posso, depositar um valor, sacar um valor, consultar o saldo ou\n",
    "sair\n",
    "[1] Depositar\n",
    "[2] Sacar\n",
    "[3] Consultar Saldo\n",
    "[4] Sair"
   ]
  },
  {
   "cell_type": "code",
   "execution_count": null,
   "metadata": {},
   "outputs": [],
   "source": []
  }
 ],
 "metadata": {
  "kernelspec": {
   "display_name": "Python 3",
   "language": "python",
   "name": "python3"
  },
  "language_info": {
   "codemirror_mode": {
    "name": "ipython",
    "version": 3
   },
   "file_extension": ".py",
   "mimetype": "text/x-python",
   "name": "python",
   "nbconvert_exporter": "python",
   "pygments_lexer": "ipython3",
   "version": "3.12.3"
  }
 },
 "nbformat": 4,
 "nbformat_minor": 2
}
