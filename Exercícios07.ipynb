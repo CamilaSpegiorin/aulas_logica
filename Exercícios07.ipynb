{
 "cells": [
  {
   "cell_type": "markdown",
   "metadata": {},
   "source": [
    " 1. Crie uma lista de filmes com 7 filmes a sua escolha, e faça as seguintes operações com ela:\n",
    "• Exiba apenas o primeiro o filme da lista\n",
    "• Exiba o filme da posição 4\n",
    "• Substitua o filme da última posição e exiba a lista\n",
    "• Insira um novo filme no final da lista e exiba a lista\n",
    "• Insira um novo filme na posição 5 e exiba a lista\n",
    "• Exclua o primeiro filme e exiba a lista\n",
    "• Exclua o último filme e exiba a lista\n",
    "• Exiba os 3 primeiros filmes da lista\n",
    "• Exiba os 4 últimos filmes da lista\n",
    "• Exiba a quantidade de filmes atualmente na lista\n",
    "• Ordene os filmes em ordem decrescente e exiba-os"
   ]
  },
  {
   "cell_type": "code",
   "execution_count": 5,
   "metadata": {},
   "outputs": [
    {
     "name": "stdout",
     "output_type": "stream",
     "text": [
      "Divertidamente\n",
      "Wifi Ralph\n",
      "['Divertidamente', 'Zootopia', 'Sexta feira muito louca', 'Wifi Ralph', 'Os incriveis', 'Toy Story', 'Zootopia']\n",
      "['Divertidamente', 'Zootopia', 'Sexta feira muito louca', 'Wifi Ralph', 'Os incriveis', 'Toy Story', 'Zootopia', 'barbie']\n",
      "['Divertidamente', 'Zootopia', 'Sexta feira muito louca', 'Wifi Ralph', 'Os incriveis', 'CInderela', 'Toy Story', 'Zootopia', 'barbie']\n",
      "['Zootopia', 'Sexta feira muito louca', 'Wifi Ralph', 'Os incriveis', 'CInderela', 'Toy Story', 'Zootopia', 'barbie']\n",
      "['Zootopia', 'Sexta feira muito louca', 'Wifi Ralph', 'Os incriveis', 'CInderela', 'Toy Story', 'Zootopia']\n",
      "['Zootopia', 'Sexta feira muito louca', 'Wifi Ralph']\n",
      "['Os incriveis', 'CInderela', 'Toy Story', 'Zootopia']\n",
      "7\n",
      "['Zootopia', 'Toy Story', 'CInderela', 'Os incriveis', 'Wifi Ralph', 'Sexta feira muito louca', 'Zootopia']\n"
     ]
    }
   ],
   "source": [
    "#Crie uma lista de filmes com 7 filmes\n",
    "filmes = ['Divertidamente', 'Zootopia', 'Sexta feira muito louca', 'Wifi Ralph', 'Os incriveis', 'Toy Story', 'Monstros S.A']\n",
    "\n",
    "#Exiba apenas o primeiro o filme da lista\n",
    "print(filmes[0]) \n",
    "\n",
    "#Exiba o filme da posição 4\n",
    "print(filmes[3]) \n",
    "\n",
    "#Substitua o filme da última posição e exiba a lista\n",
    "filmes[6] = 'Zootopia' \n",
    "print(filmes) \n",
    "\n",
    "# Insira um novo filme no final da lista e exiba a lista\n",
    "filmes.append('barbie')\n",
    "print(filmes)\n",
    "\n",
    "\n",
    "# Insira um novo filme na posição 5 e exiba a lista\n",
    "filmes.insert(5, 'CInderela')\n",
    "print(filmes)\n",
    "\n",
    "# Exclua o primeiro filme e exiba a lista\n",
    "filmes.pop(0)\n",
    "print(filmes)\n",
    "\n",
    "# Exclua o último filme e exiba a lista\n",
    "filmes.pop(7)\n",
    "print(filmes)\n",
    "\n",
    "# Exiba os 3 primeiros filmes da lista\n",
    "print(filmes[0:3]) \n",
    "\n",
    "# Exiba os 4 últimos filmes da lista\n",
    "print(filmes[3:7])\n",
    "\n",
    "# Exiba a quantidade de filmes atualmente na lista\n",
    "print(len(filmes))\n",
    "\n",
    "# Ordene os filmes em ordem decrescente e exiba-os\n",
    "filmes.reverse()\n",
    "print(filmes)\n",
    "\n",
    "\n"
   ]
  }
 ],
 "metadata": {
  "kernelspec": {
   "display_name": "Python 3",
   "language": "python",
   "name": "python3"
  },
  "language_info": {
   "codemirror_mode": {
    "name": "ipython",
    "version": 3
   },
   "file_extension": ".py",
   "mimetype": "text/x-python",
   "name": "python",
   "nbconvert_exporter": "python",
   "pygments_lexer": "ipython3",
   "version": "3.12.3"
  }
 },
 "nbformat": 4,
 "nbformat_minor": 2
}
